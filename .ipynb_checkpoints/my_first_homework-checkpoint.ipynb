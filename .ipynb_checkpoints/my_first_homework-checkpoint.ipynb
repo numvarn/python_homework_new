{
 "cells": [
  {
   "cell_type": "markdown",
   "id": "2257a069-3a7f-4b88-98da-0954cdb6188e",
   "metadata": {},
   "source": [
    "นายพิศาล สุขขี\n",
    "\n",
    "เลขที่ 6712732103"
   ]
  },
  {
   "cell_type": "code",
   "execution_count": 1,
   "id": "ad5fc6e2-a4bc-4a32-93f4-c94b0fb76c6d",
   "metadata": {},
   "outputs": [
    {
     "name": "stdout",
     "output_type": "stream",
     "text": [
      "Hello, world\n"
     ]
    }
   ],
   "source": [
    "print(\"Hello, world\")"
   ]
  },
  {
   "cell_type": "code",
   "execution_count": null,
   "id": "f562bcba-2996-4932-8759-16035f9056ed",
   "metadata": {},
   "outputs": [],
   "source": []
  }
 ],
 "metadata": {
  "kernelspec": {
   "display_name": "Python 3 (ipykernel)",
   "language": "python",
   "name": "python3"
  },
  "language_info": {
   "codemirror_mode": {
    "name": "ipython",
    "version": 3
   },
   "file_extension": ".py",
   "mimetype": "text/x-python",
   "name": "python",
   "nbconvert_exporter": "python",
   "pygments_lexer": "ipython3",
   "version": "3.11.10"
  }
 },
 "nbformat": 4,
 "nbformat_minor": 5
}
